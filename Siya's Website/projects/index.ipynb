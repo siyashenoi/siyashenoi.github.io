{
  "cells": [
    {
      "cell_type": "raw",
      "metadata": {},
      "source": [
        "---\n",
        "title: Projects\n",
        "---"
      ],
      "id": "ea1bd2a5"
    },
    {
      "cell_type": "markdown",
      "metadata": {},
      "source": [
        "Here, you will find an assortment of projects I have done related to statistics and data visualization. \n",
        "\n",
        "## *Copy The Masters*\n",
        "\n",
        "<img src=\"Screenshot 2023-06-09 at 7.19.58 PM.png\" style=\"height: 100%; width: 100%; object-fit: contain\" onclick=\"window.open(&apos;https://arxiv.org/abs/2112.08866&apos;, &apos;blank&apos;);\"/>\n",
        "\n",
        "<a href=\"https://github.com/\" target=\"_blank\">Full Report</a>\n",
        "\n",
        "In this project, I attempted to recreate a graphic from FiveThirtyEight's acrticle: The Media Really Has Neglected Puerto Rico. The graph is supposed to depict the amount of coverage continental U.S. hurricanes vs. non-continental U.S. hurricanes received in the media. The graph is an area plot, so it is dislaying the time-series data of sentences over time. The graph depicts the number of sentences per day that mention Hurricanes Harvey, Irma, Jose, and Maria in online news, from the dates 8/21/17 to 9/22/17. \n",
        "\n",
        "------------------------------------------------------------------------\n",
        "\n",
        "## *One-number Story:* \n",
        "\n",
        "<img src=\"Santa-Clara-County.jpg\" style=\"height: 100%; width: 100%; object-fit: contain\" onclick=\"window.open(&apos;https://arxiv.org/abs/2210.07278&apos;, &apos;blank&apos;);\"/>\n",
        "\n",
        "\n",
        "```{css echo=FALSE}\n",
        ".embed-container {\n",
        "    position: relative;\n",
        "    padding-bottom: 129%;\n",
        "    height: 0;\n",
        "    overflow: hidden;\n",
        "    max-width: 100%;\n",
        "}\n",
        ".embed-container iframe,\n",
        ".embed-container object,\n",
        ".embed-container embed {\n",
        "    position: absolute;\n",
        "    top: 0;\n",
        "    left: 0;\n",
        "    width: 100%;\n",
        "    height: 100%;\n",
        "}\n",
        "```\n",
        "\n",
        "```{=html}\n",
        "<p class=\"text-center\">\n",
        "  <a class=\"btn btn-primary btn-lg cv-download\" href=\"`r rmarkdown::metadata$cv$pdf`\" target=\"_blank\">\n",
        "    <i class=\"fa-solid fa-file-arrow-down\"></i>&ensp;Download Project\n",
        "  </a>\n",
        "</p>\n",
        "<div class=\"embed-container\">\n",
        "  <iframe src=\"`r rmarkdown::metadata$cv$pdf`\" style=\"border: 0.5px\"></iframe>\n",
        "</div>\n",
        "```\n",
        "\n",
        "\n",
        "In this paper, I examine the trends in of declining enrollment in non-charter schools throughout the county of Santa Clara, and over the past two years, total enrollment has dropped 7.67%. I attempt to pinpoint what exactly caused the drop in enrollment. \n",
        "\n",
        "------------------------------------------------------------------------\n",
        "\n",
        "## *Rose Diagram* \n",
        "\n",
        "<img src=\"Screenshot 2023-06-09 at 7.16.53 PM.png\" style=\"height: 100%; width: 100%; object-fit: contain\" onclick=\"window.open(&apos;https://arxiv.org/abs/2210.07278&apos;, &apos;blank&apos;);\"/>\n",
        "\n",
        "<a href=\"https://github.com/\" target=\"_blank\">Full Report</a>\n",
        "\n",
        "The rose diagram, also known as the coxcomb diagram, was created by Nightingale in 1858 to show the leading causes of death of British soldiers. This was done by Nightingale since she persuaded Queen Victoria of England to investigate the health conditions of the army, so the large death toll did not happen again. The display is essentially a circular histogram. Specifically, Nightingale's diagram had two time periods; April 1854 to March 1855, and April 1855 to March 1856. There are three categories corresponding to the leading causes of death of British soldiers: blue is disease, red is wounds, and grey is other causes. I used R to recreate this chart. \n"
      ],
      "id": "36ea83c3"
    }
  ],
  "metadata": {
    "kernelspec": {
      "display_name": "Python 3",
      "language": "python",
      "name": "python3"
    }
  },
  "nbformat": 4,
  "nbformat_minor": 5
}